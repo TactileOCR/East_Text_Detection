{
 "cells": [
  {
   "cell_type": "code",
   "execution_count": 5,
   "metadata": {},
   "outputs": [],
   "source": [
    "from openai import OpenAI\n",
    "import os\n",
    "from dotenv import load_dotenv\n",
    "\n",
    "# Load values from the .env file if it exists\n",
    "load_dotenv()\n",
    "\n",
    "# Configure OpenAI\n",
    "key = os.getenv(\"OPENAI_API_KEY\")\n",
    "\n",
    "client = OpenAI(api_key=key)\n",
    "\n",
    "# Define function to get chatbot response\n",
    "def get_chatbot_response(prompt):\n",
    "   chat_completion = client.chat.completions.create(\n",
    "    messages=[\n",
    "        {\n",
    "            \"role\": \"user\",\n",
    "            \"content\" : prompt,\n",
    "        }\n",
    "    ],\n",
    "    model=\"gpt-3.5-turbo\",\n",
    ")\n",
    "   print(chat_completion.choices[0].message.content)\n",
    "   return chat_completion.choices[0].message.content\n",
    "\n",
    "# Define function to get chatbot response for a given input string\n",
    "def get_response(input_string):\n",
    "    return get_chatbot_response(input_string)\n"
   ]
  },
  {
   "cell_type": "code",
   "execution_count": 10,
   "metadata": {},
   "outputs": [
    {
     "name": "stdout",
     "output_type": "stream",
     "text": [
      "0.274061918258667\n",
      "Text: \n",
      "Text: \n",
      "Text: \n",
      "Text: \n",
      "Text: \n"
     ]
    },
    {
     "ename": "",
     "evalue": "",
     "output_type": "error",
     "traceback": [
      "\u001b[1;31mThe Kernel crashed while executing code in the the current cell or a previous cell. Please review the code in the cell(s) to identify a possible cause of the failure. Click <a href='https://aka.ms/vscodeJupyterKernelCrash'>here</a> for more info. View Jupyter <a href='command:jupyter.viewOutput'>log</a> for further details."
     ]
    }
   ],
   "source": [
    "import os\n",
    "import sys\n",
    "import numpy as np\n",
    "import cv2\n",
    "import time\n",
    "from imutils.object_detection import non_max_suppression\n",
    "\n",
    "def east_detect(image):\n",
    "    layerNames = [\n",
    "        \"feature_fusion/Conv_7/Sigmoid\",\n",
    "        \"feature_fusion/concat_3\"]\n",
    "\n",
    "    orig = image.copy()\n",
    "\n",
    "    if len(image.shape) == 2:\n",
    "        image = cv2.cvtColor(image, cv2.COLOR_GRAY2RGB)\n",
    "\n",
    "    (H, W) = image.shape[:2]\n",
    "    (newW, newH) = (320, 320)\n",
    "    rW = W / float(newW)\n",
    "    rH = H / float(newH)\n",
    "    image = cv2.resize(image, (newW, newH))\n",
    "    (H, W) = image.shape[:2]\n",
    "\n",
    "    net = cv2.dnn.readNet(\"frozen_east_text_detection.pb\")\n",
    "    blob = cv2.dnn.blobFromImage(image, 1.0, (W, H), (123.68, 116.78, 103.94), swapRB=True, crop=False)\n",
    "    start = time.time()\n",
    "    net.setInput(blob)\n",
    "    (scores, geometry) = net.forward(layerNames)\n",
    "    (numRows, numCols) = scores.shape[2:4]\n",
    "    rects = []\n",
    "    confidences = []\n",
    "\n",
    "    for y in range(0, numRows):\n",
    "        scoresData = scores[0, 0, y]\n",
    "        xData0 = geometry[0, 0, y]\n",
    "        xData1 = geometry[0, 1, y]\n",
    "        xData2 = geometry[0, 2, y]\n",
    "        xData3 = geometry[0, 3, y]\n",
    "        anglesData = geometry[0, 4, y]\n",
    "\n",
    "        for x in range(0, numCols):\n",
    "            if scoresData[x] < 0.5:\n",
    "                continue\n",
    "\n",
    "            (offsetX, offsetY) = (x * 4.0, y * 4.0)\n",
    "            angle = anglesData[x]\n",
    "            cos = np.cos(angle)\n",
    "            sin = np.sin(angle)\n",
    "            h = xData0[x] + xData2[x]\n",
    "            w = xData1[x] + xData3[x]\n",
    "            endX = int(offsetX + (cos * xData1[x]) + (sin * xData2[x]))\n",
    "            endY = int(offsetY - (sin * xData1[x]) + (cos * xData2[x]))\n",
    "            startX = int(endX - w)\n",
    "            startY = int(endY - h)\n",
    "            rects.append((startX, startY, endX, endY))\n",
    "            confidences.append(scoresData[x])\n",
    "\n",
    "    boxes = non_max_suppression(np.array(rects), probs=confidences)\n",
    "    \n",
    "    cropped_images = []  # List to hold cropped images\n",
    "\n",
    "    for (startX, startY, endX, endY) in boxes:\n",
    "        startX = int(startX * rW)\n",
    "        startY = int(startY * rH)\n",
    "        endX = int(endX * rW)\n",
    "        endY = int(endY * rH)\n",
    "        cv2.rectangle(orig, (startX, startY), (endX, endY), (0, 255, 0), 2)\n",
    "\n",
    "        # Crop and save each detected region\n",
    "        cropped_region = orig[startY:endY, startX:endX]\n",
    "        cropped_images.append(cropped_region)\n",
    "\n",
    "    print(time.time() - start)\n",
    "    return orig\n",
    "\n",
    "# Example usage\n",
    "# image = cv2.imread(\"a-sign-big.jpg\")\n",
    "# detected_image, cropped_texts = east_detect(image)\n",
    "# for i, cropped in enumerate(cropped_texts):\n",
    "#     cv2.imshow(f\"Cropped Text {i+1}\", cropped)\n",
    "#     text = read_image(cropped)\n",
    "  \n",
    "# # cv2.imshow(\"Detected Text\", detected_image)\n",
    "# # cv2.waitKey(0)\n",
    "# # cv2.destroyAllWindows()\n",
    "\n",
    "\n",
    "\n",
    "\n"
   ]
  },
  {
   "cell_type": "code",
   "execution_count": null,
   "metadata": {},
   "outputs": [],
   "source": []
  },
  {
   "cell_type": "code",
   "execution_count": 7,
   "metadata": {},
   "outputs": [],
   "source": [
    "import pytesseract\n",
    "from PIL import Image\n",
    "def read_image(image):\n",
    "    return pytesseract.image_to_string(image)\n",
    "\n"
   ]
  },
  {
   "cell_type": "code",
   "execution_count": 8,
   "metadata": {},
   "outputs": [],
   "source": [
    "\n",
    "def add_to_records(records_dict, response, text):\n",
    "    records_dict[text] = response\n",
    "    return records_dict\n",
    "\n"
   ]
  },
  {
   "cell_type": "code",
   "execution_count": 9,
   "metadata": {},
   "outputs": [],
   "source": [
    "def append_to_file(data_to_append):\n",
    "    \"\"\"\n",
    "    Appends data to a file. Creates the file if it doesn't exist.\n",
    "\n",
    "    Args:\n",
    "    file_path (str): The path to the file.\n",
    "    data_to_append (str): The data to append to the file.\n",
    "    \"\"\"\n",
    "    try:\n",
    "        # Open the file in append mode, which creates the file if it doesn't exist\n",
    "        with open('response.txt', 'a') as file:\n",
    "            file.write(data_to_append)\n",
    "        print(f\"Data appended to successfully.\")\n",
    "    except IOError as e:\n",
    "        print(f\"An error occurred while writing: {e}\")"
   ]
  },
  {
   "cell_type": "code",
   "execution_count": 4,
   "metadata": {},
   "outputs": [
    {
     "name": "stdout",
     "output_type": "stream",
     "text": [
      "0.23705220222473145\n"
     ]
    },
    {
     "ename": "error",
     "evalue": "OpenCV(4.8.1) :-1: error: (-5:Bad argument) in function 'imwrite'\n> Overload resolution failed:\n>  - img is not a numerical tuple\n>  - Expected Ptr<cv::UMat> for argument 'img'\n",
     "output_type": "error",
     "traceback": [
      "\u001b[1;31m---------------------------------------------------------------------------\u001b[0m",
      "\u001b[1;31merror\u001b[0m                                     Traceback (most recent call last)",
      "\u001b[1;32md:\\calam\\Documents\\githubrepos\\chatbot\\main.ipynb Cell 6\u001b[0m line \u001b[0;36m2\n\u001b[0;32m     <a href='vscode-notebook-cell:/d%3A/calam/Documents/githubrepos/chatbot/main.ipynb#W6sZmlsZQ%3D%3D?line=17'>18</a>\u001b[0m         records_dict \u001b[39m=\u001b[39m add_to_records(records_dict, response, text)\n\u001b[0;32m     <a href='vscode-notebook-cell:/d%3A/calam/Documents/githubrepos/chatbot/main.ipynb#W6sZmlsZQ%3D%3D?line=18'>19</a>\u001b[0m         \u001b[39mprint\u001b[39m(records_dict)\n\u001b[1;32m---> <a href='vscode-notebook-cell:/d%3A/calam/Documents/githubrepos/chatbot/main.ipynb#W6sZmlsZQ%3D%3D?line=21'>22</a>\u001b[0m main(\u001b[39m'\u001b[39;49m\u001b[39mCapture.JPG\u001b[39;49m\u001b[39m'\u001b[39;49m)\n",
      "\u001b[1;32md:\\calam\\Documents\\githubrepos\\chatbot\\main.ipynb Cell 6\u001b[0m line \u001b[0;36m1\n\u001b[0;32m     <a href='vscode-notebook-cell:/d%3A/calam/Documents/githubrepos/chatbot/main.ipynb#W6sZmlsZQ%3D%3D?line=9'>10</a>\u001b[0m records_dict \u001b[39m=\u001b[39m {}\n\u001b[0;32m     <a href='vscode-notebook-cell:/d%3A/calam/Documents/githubrepos/chatbot/main.ipynb#W6sZmlsZQ%3D%3D?line=10'>11</a>\u001b[0m pytesseract\u001b[39m.\u001b[39mpytesseract\u001b[39m.\u001b[39mtesseract_cmd \u001b[39m=\u001b[39m \u001b[39mr\u001b[39m\u001b[39m'\u001b[39m\u001b[39mC:\u001b[39m\u001b[39m\\\u001b[39m\u001b[39mProgram Files\u001b[39m\u001b[39m\\\u001b[39m\u001b[39mTesseract-OCR\u001b[39m\u001b[39m\\\u001b[39m\u001b[39mtesseract.exe\u001b[39m\u001b[39m'\u001b[39m\n\u001b[1;32m---> <a href='vscode-notebook-cell:/d%3A/calam/Documents/githubrepos/chatbot/main.ipynb#W6sZmlsZQ%3D%3D?line=11'>12</a>\u001b[0m text \u001b[39m=\u001b[39m image_processing(path_to_image)\n\u001b[0;32m     <a href='vscode-notebook-cell:/d%3A/calam/Documents/githubrepos/chatbot/main.ipynb#W6sZmlsZQ%3D%3D?line=12'>13</a>\u001b[0m \u001b[39mprint\u001b[39m(text)\n\u001b[0;32m     <a href='vscode-notebook-cell:/d%3A/calam/Documents/githubrepos/chatbot/main.ipynb#W6sZmlsZQ%3D%3D?line=13'>14</a>\u001b[0m \u001b[39mprint\u001b[39m(records_dict)\n",
      "\u001b[1;32md:\\calam\\Documents\\githubrepos\\chatbot\\main.ipynb Cell 6\u001b[0m line \u001b[0;36m4\n\u001b[0;32m      <a href='vscode-notebook-cell:/d%3A/calam/Documents/githubrepos/chatbot/main.ipynb#W6sZmlsZQ%3D%3D?line=1'>2</a>\u001b[0m image \u001b[39m=\u001b[39m cv2\u001b[39m.\u001b[39mimread(path_to_image)\n\u001b[0;32m      <a href='vscode-notebook-cell:/d%3A/calam/Documents/githubrepos/chatbot/main.ipynb#W6sZmlsZQ%3D%3D?line=2'>3</a>\u001b[0m out_image \u001b[39m=\u001b[39m east_detect(image)\n\u001b[1;32m----> <a href='vscode-notebook-cell:/d%3A/calam/Documents/githubrepos/chatbot/main.ipynb#W6sZmlsZQ%3D%3D?line=3'>4</a>\u001b[0m cv2\u001b[39m.\u001b[39;49mimwrite(\u001b[39mf\u001b[39;49m\u001b[39m\"\u001b[39;49m\u001b[39msample_output-\u001b[39;49m\u001b[39m{\u001b[39;49;00mpath_to_image\u001b[39m}\u001b[39;49;00m\u001b[39m.jpg\u001b[39;49m\u001b[39m\"\u001b[39;49m, out_image)\n\u001b[0;32m      <a href='vscode-notebook-cell:/d%3A/calam/Documents/githubrepos/chatbot/main.ipynb#W6sZmlsZQ%3D%3D?line=4'>5</a>\u001b[0m image \u001b[39m=\u001b[39m Image\u001b[39m.\u001b[39mopen(path_to_image)\n\u001b[0;32m      <a href='vscode-notebook-cell:/d%3A/calam/Documents/githubrepos/chatbot/main.ipynb#W6sZmlsZQ%3D%3D?line=5'>6</a>\u001b[0m text \u001b[39m=\u001b[39m read_image(image)\n",
      "\u001b[1;31merror\u001b[0m: OpenCV(4.8.1) :-1: error: (-5:Bad argument) in function 'imwrite'\n> Overload resolution failed:\n>  - img is not a numerical tuple\n>  - Expected Ptr<cv::UMat> for argument 'img'\n"
     ]
    }
   ],
   "source": [
    "def image_processing(path_to_image):\n",
    "    image = cv2.imread(path_to_image)\n",
    "    out_image = east_detect(image)\n",
    "    cv2.imwrite(f\"sample_output-{path_to_image}.jpg\", out_image)\n",
    "    image = Image.open(path_to_image)\n",
    "    text = read_image(image)\n",
    "    return text\n",
    "\n",
    "def main(path_to_image):\n",
    "    records_dict = {}\n",
    "    pytesseract.pytesseract.tesseract_cmd = r'C:\\Program Files\\Tesseract-OCR\\tesseract.exe'\n",
    "    text = image_processing(path_to_image)\n",
    "    print(text)\n",
    "    print(records_dict)\n",
    "    if text not in records_dict:\n",
    "        response = get_response(text)\n",
    "        append_to_file(response)\n",
    "        records_dict = add_to_records(records_dict, response, text)\n",
    "        print(records_dict)\n",
    "        \n",
    "        \n",
    "main('Capture.JPG')"
   ]
  }
 ],
 "metadata": {
  "kernelspec": {
   "display_name": "SimpleOCR",
   "language": "python",
   "name": "python3"
  },
  "language_info": {
   "codemirror_mode": {
    "name": "ipython",
    "version": 3
   },
   "file_extension": ".py",
   "mimetype": "text/x-python",
   "name": "python",
   "nbconvert_exporter": "python",
   "pygments_lexer": "ipython3",
   "version": "3.12.0"
  }
 },
 "nbformat": 4,
 "nbformat_minor": 2
}
